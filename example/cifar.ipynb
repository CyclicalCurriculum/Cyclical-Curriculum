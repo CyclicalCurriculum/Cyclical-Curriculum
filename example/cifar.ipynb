{
 "cells": [
  {
   "cell_type": "markdown",
   "id": "6ee659e5",
   "metadata": {},
   "source": [
    "# Training Example: Vanilla vs Cyclical"
   ]
  },
  {
   "cell_type": "code",
   "execution_count": 1,
   "id": "1ff1081b",
   "metadata": {},
   "outputs": [],
   "source": [
    "from tensorflow.keras.utils import to_categorical\n",
    "from tensorflow.keras import datasets\n",
    "from tensorflow.keras import layers, models\n",
    "import numpy as np\n",
    "from utils import get_cycle_sizes, get_categ_ind_loss, CyclicalTrain"
   ]
  },
  {
   "cell_type": "code",
   "execution_count": 2,
   "id": "ea1a0dfd",
   "metadata": {},
   "outputs": [],
   "source": [
    "def get_cifar10_data():\n",
    "    (train_images, train_labels), (test_images, test_labels) = datasets.cifar10.load_data()\n",
    "    train_images, test_images = (train_images.astype(\"float32\") / 255.0, test_images.astype(\"float32\") / 255.0)\n",
    "    train_images = train_images.reshape((train_images.shape[0], 32, 32, 3))\n",
    "    test_images = test_images.reshape((test_images.shape[0], 32, 32, 3))\n",
    "\n",
    "    train_labels = to_categorical(train_labels)\n",
    "    test_labels = to_categorical(test_labels)\n",
    "\n",
    "    return train_images, train_labels, test_images, test_labels\n",
    "\n",
    "\n",
    "def get_cifar10_model():\n",
    "    model = models.Sequential()\n",
    "    model.add(layers.Conv2D(32, (3, 3), input_shape=(32, 32, 3)))\n",
    "    model.add(layers.BatchNormalization())\n",
    "    model.add(layers.Activation(\"relu\"))\n",
    "    model.add(layers.MaxPooling2D((2, 2)))\n",
    "\n",
    "    model.add(layers.Conv2D(64, (3, 3)))\n",
    "    model.add(layers.BatchNormalization())\n",
    "    model.add(layers.Activation(\"relu\"))\n",
    "    model.add(layers.MaxPooling2D((2, 2)))\n",
    "\n",
    "    model.add(layers.Conv2D(64, (3, 3)))\n",
    "    model.add(layers.BatchNormalization())\n",
    "    model.add(layers.Activation(\"relu\"))\n",
    "    model.add(layers.Flatten())\n",
    "    model.add(layers.Dense(10, activation=\"softmax\"))\n",
    "\n",
    "    model.compile(\n",
    "        optimizer='adam',\n",
    "        loss=\"categorical_crossentropy\",\n",
    "        metrics=[\"accuracy\"],\n",
    "    )\n",
    "\n",
    "    model.summary()\n",
    "\n",
    "    return model"
   ]
  },
  {
   "cell_type": "markdown",
   "id": "b1fb2eb9",
   "metadata": {},
   "source": [
    "## Get cifar10 dataset and build model\n",
    "You can try out your own model and dataset by modifying the cell below."
   ]
  },
  {
   "cell_type": "code",
   "execution_count": 3,
   "id": "6673734d",
   "metadata": {
    "scrolled": true
   },
   "outputs": [
    {
     "name": "stdout",
     "output_type": "stream",
     "text": [
      "Model: \"sequential\"\n",
      "_________________________________________________________________\n",
      " Layer (type)                Output Shape              Param #   \n",
      "=================================================================\n",
      " conv2d (Conv2D)             (None, 30, 30, 32)        896       \n",
      "                                                                 \n",
      " batch_normalization (BatchN  (None, 30, 30, 32)       128       \n",
      " ormalization)                                                   \n",
      "                                                                 \n",
      " activation (Activation)     (None, 30, 30, 32)        0         \n",
      "                                                                 \n",
      " max_pooling2d (MaxPooling2D  (None, 15, 15, 32)       0         \n",
      " )                                                               \n",
      "                                                                 \n",
      " conv2d_1 (Conv2D)           (None, 13, 13, 64)        18496     \n",
      "                                                                 \n",
      " batch_normalization_1 (Batc  (None, 13, 13, 64)       256       \n",
      " hNormalization)                                                 \n",
      "                                                                 \n",
      " activation_1 (Activation)   (None, 13, 13, 64)        0         \n",
      "                                                                 \n",
      " max_pooling2d_1 (MaxPooling  (None, 6, 6, 64)         0         \n",
      " 2D)                                                             \n",
      "                                                                 \n",
      " conv2d_2 (Conv2D)           (None, 4, 4, 64)          36928     \n",
      "                                                                 \n",
      " batch_normalization_2 (Batc  (None, 4, 4, 64)         256       \n",
      " hNormalization)                                                 \n",
      "                                                                 \n",
      " activation_2 (Activation)   (None, 4, 4, 64)          0         \n",
      "                                                                 \n",
      " flatten (Flatten)           (None, 1024)              0         \n",
      "                                                                 \n",
      " dense (Dense)               (None, 10)                10250     \n",
      "                                                                 \n",
      "=================================================================\n",
      "Total params: 67,210\n",
      "Trainable params: 66,890\n",
      "Non-trainable params: 320\n",
      "_________________________________________________________________\n"
     ]
    }
   ],
   "source": [
    "train_images, train_labels, test_images, test_labels = get_cifar10_data()\n",
    "model = get_cifar10_model()\n",
    "EPOCHS = 30\n",
    "BATCH_SIZE = 128"
   ]
  },
  {
   "cell_type": "markdown",
   "id": "37124a83",
   "metadata": {},
   "source": [
    "## Train Vanilla Model with cifar10"
   ]
  },
  {
   "cell_type": "code",
   "execution_count": 4,
   "id": "7bfe8288",
   "metadata": {
    "scrolled": true
   },
   "outputs": [
    {
     "name": "stdout",
     "output_type": "stream",
     "text": [
      "Epoch 1/30\n",
      "391/391 [==============================] - 7s 9ms/step - loss: 1.3121 - accuracy: 0.5340 - val_loss: 2.2338 - val_accuracy: 0.3157\n",
      "Epoch 2/30\n",
      "391/391 [==============================] - 3s 8ms/step - loss: 0.9528 - accuracy: 0.6663 - val_loss: 1.0732 - val_accuracy: 0.6320\n",
      "Epoch 3/30\n",
      "391/391 [==============================] - 3s 9ms/step - loss: 0.8196 - accuracy: 0.7146 - val_loss: 1.2582 - val_accuracy: 0.5729\n",
      "Epoch 4/30\n",
      "391/391 [==============================] - 3s 9ms/step - loss: 0.7317 - accuracy: 0.7460 - val_loss: 1.0179 - val_accuracy: 0.6553\n",
      "Epoch 5/30\n",
      "391/391 [==============================] - 3s 8ms/step - loss: 0.6674 - accuracy: 0.7696 - val_loss: 1.1553 - val_accuracy: 0.6022\n",
      "Epoch 6/30\n",
      "391/391 [==============================] - 3s 8ms/step - loss: 0.6159 - accuracy: 0.7851 - val_loss: 2.0346 - val_accuracy: 0.4871\n",
      "Epoch 7/30\n",
      "391/391 [==============================] - 3s 8ms/step - loss: 0.5690 - accuracy: 0.8042 - val_loss: 1.0146 - val_accuracy: 0.6691\n",
      "Epoch 8/30\n",
      "391/391 [==============================] - 3s 9ms/step - loss: 0.5296 - accuracy: 0.8169 - val_loss: 1.1343 - val_accuracy: 0.6443\n",
      "Epoch 9/30\n",
      "391/391 [==============================] - 3s 9ms/step - loss: 0.4927 - accuracy: 0.8297 - val_loss: 0.9862 - val_accuracy: 0.6871\n",
      "Epoch 10/30\n",
      "391/391 [==============================] - 3s 9ms/step - loss: 0.4585 - accuracy: 0.8416 - val_loss: 0.9300 - val_accuracy: 0.7027\n",
      "Epoch 11/30\n",
      "391/391 [==============================] - 4s 9ms/step - loss: 0.4278 - accuracy: 0.8522 - val_loss: 1.1996 - val_accuracy: 0.6375\n",
      "Epoch 12/30\n",
      "391/391 [==============================] - 4s 9ms/step - loss: 0.4034 - accuracy: 0.8611 - val_loss: 1.0553 - val_accuracy: 0.6827\n",
      "Epoch 13/30\n",
      "391/391 [==============================] - 4s 10ms/step - loss: 0.3745 - accuracy: 0.8701 - val_loss: 1.8610 - val_accuracy: 0.5695\n",
      "Epoch 14/30\n",
      "391/391 [==============================] - 4s 9ms/step - loss: 0.3515 - accuracy: 0.8801 - val_loss: 1.0546 - val_accuracy: 0.6999\n",
      "Epoch 15/30\n",
      "391/391 [==============================] - 4s 9ms/step - loss: 0.3242 - accuracy: 0.8884 - val_loss: 1.2930 - val_accuracy: 0.6513\n",
      "Epoch 16/30\n",
      "391/391 [==============================] - 4s 10ms/step - loss: 0.3007 - accuracy: 0.8976 - val_loss: 1.7059 - val_accuracy: 0.5891\n",
      "Epoch 17/30\n",
      "391/391 [==============================] - 4s 10ms/step - loss: 0.2869 - accuracy: 0.9012 - val_loss: 1.1157 - val_accuracy: 0.6926\n",
      "Epoch 18/30\n",
      "391/391 [==============================] - 4s 11ms/step - loss: 0.2636 - accuracy: 0.9097 - val_loss: 1.3472 - val_accuracy: 0.6608\n",
      "Epoch 19/30\n",
      "391/391 [==============================] - 4s 10ms/step - loss: 0.2516 - accuracy: 0.9134 - val_loss: 1.1863 - val_accuracy: 0.6869\n",
      "Epoch 20/30\n",
      "391/391 [==============================] - 4s 11ms/step - loss: 0.2379 - accuracy: 0.9177 - val_loss: 1.2296 - val_accuracy: 0.6891\n",
      "Epoch 21/30\n",
      "391/391 [==============================] - 4s 10ms/step - loss: 0.2231 - accuracy: 0.9225 - val_loss: 1.1714 - val_accuracy: 0.6928\n",
      "Epoch 22/30\n",
      "391/391 [==============================] - 4s 11ms/step - loss: 0.2031 - accuracy: 0.9307 - val_loss: 1.1508 - val_accuracy: 0.6984\n",
      "Epoch 23/30\n",
      "391/391 [==============================] - 4s 10ms/step - loss: 0.1905 - accuracy: 0.9345 - val_loss: 1.3772 - val_accuracy: 0.6924\n",
      "Epoch 24/30\n",
      "391/391 [==============================] - 4s 11ms/step - loss: 0.1809 - accuracy: 0.9382 - val_loss: 1.2776 - val_accuracy: 0.6972\n",
      "Epoch 25/30\n",
      "391/391 [==============================] - 4s 10ms/step - loss: 0.1616 - accuracy: 0.9467 - val_loss: 1.3733 - val_accuracy: 0.6849\n",
      "Epoch 26/30\n",
      "391/391 [==============================] - 4s 11ms/step - loss: 0.1623 - accuracy: 0.9454 - val_loss: 1.4768 - val_accuracy: 0.6759\n",
      "Epoch 27/30\n",
      "391/391 [==============================] - 5s 12ms/step - loss: 0.1480 - accuracy: 0.9507 - val_loss: 1.4494 - val_accuracy: 0.6643\n",
      "Epoch 28/30\n",
      "391/391 [==============================] - 4s 11ms/step - loss: 0.1397 - accuracy: 0.9523 - val_loss: 1.3068 - val_accuracy: 0.7030\n",
      "Epoch 29/30\n",
      "391/391 [==============================] - 4s 10ms/step - loss: 0.1339 - accuracy: 0.9544 - val_loss: 1.4230 - val_accuracy: 0.6994\n",
      "Epoch 30/30\n",
      "391/391 [==============================] - 5s 12ms/step - loss: 0.1250 - accuracy: 0.9591 - val_loss: 1.6626 - val_accuracy: 0.6727\n"
     ]
    }
   ],
   "source": [
    "vanilla_history = model.fit(train_images, train_labels, \n",
    "                            validation_data = (test_images, test_labels),\n",
    "                            epochs = EPOCHS, batch_size = BATCH_SIZE)"
   ]
  },
  {
   "cell_type": "markdown",
   "id": "4d74130c",
   "metadata": {},
   "source": [
    "## Define Cyclical Hyperparameters"
   ]
  },
  {
   "cell_type": "code",
   "execution_count": 5,
   "id": "6e53930f",
   "metadata": {},
   "outputs": [],
   "source": [
    "start_percent = 0.25\n",
    "end_percent = 1\n",
    "multiplier = 0.50"
   ]
  },
  {
   "cell_type": "markdown",
   "id": "e8914850",
   "metadata": {},
   "source": [
    "## Get scores for each sample"
   ]
  },
  {
   "cell_type": "code",
   "execution_count": 6,
   "id": "60bcbe3d",
   "metadata": {},
   "outputs": [],
   "source": [
    "losses = get_categ_ind_loss(model, train_images, train_labels, batch_size = BATCH_SIZE)\n",
    "scores = 1 / losses"
   ]
  },
  {
   "cell_type": "markdown",
   "id": "87a34916",
   "metadata": {},
   "source": [
    "## Create CyclicalTrain Using Vanilla Scores"
   ]
  },
  {
   "cell_type": "code",
   "execution_count": 7,
   "id": "2f90e07e",
   "metadata": {},
   "outputs": [
    {
     "name": "stdout",
     "output_type": "stream",
     "text": [
      "Model: \"sequential\"\n",
      "_________________________________________________________________\n",
      " Layer (type)                Output Shape              Param #   \n",
      "=================================================================\n",
      " conv2d (Conv2D)             (None, 30, 30, 32)        896       \n",
      "                                                                 \n",
      " batch_normalization (BatchN  (None, 30, 30, 32)       128       \n",
      " ormalization)                                                   \n",
      "                                                                 \n",
      " activation (Activation)     (None, 30, 30, 32)        0         \n",
      "                                                                 \n",
      " max_pooling2d (MaxPooling2D  (None, 15, 15, 32)       0         \n",
      " )                                                               \n",
      "                                                                 \n",
      " conv2d_1 (Conv2D)           (None, 13, 13, 64)        18496     \n",
      "                                                                 \n",
      " batch_normalization_1 (Batc  (None, 13, 13, 64)       256       \n",
      " hNormalization)                                                 \n",
      "                                                                 \n",
      " activation_1 (Activation)   (None, 13, 13, 64)        0         \n",
      "                                                                 \n",
      " max_pooling2d_1 (MaxPooling  (None, 6, 6, 64)         0         \n",
      " 2D)                                                             \n",
      "                                                                 \n",
      " conv2d_2 (Conv2D)           (None, 4, 4, 64)          36928     \n",
      "                                                                 \n",
      " batch_normalization_2 (Batc  (None, 4, 4, 64)         256       \n",
      " hNormalization)                                                 \n",
      "                                                                 \n",
      " activation_2 (Activation)   (None, 4, 4, 64)          0         \n",
      "                                                                 \n",
      " flatten (Flatten)           (None, 1024)              0         \n",
      "                                                                 \n",
      " dense (Dense)               (None, 10)                10250     \n",
      "                                                                 \n",
      "=================================================================\n",
      "Total params: 67,210\n",
      "Trainable params: 66,890\n",
      "Non-trainable params: 320\n",
      "_________________________________________________________________\n",
      "98/98 [==============================] - 2s 15ms/step - loss: 0.8727 - accuracy: 0.7274 - val_loss: 3.1323 - val_accuracy: 0.1008\n",
      "Current Max Val Acc 0.1008\n",
      "196/196 [==============================] - 3s 12ms/step - loss: 0.7085 - accuracy: 0.7608 - val_loss: 3.2610 - val_accuracy: 0.1664\n",
      "Current Max Val Acc 0.1664\n",
      "391/391 [==============================] - 4s 11ms/step - loss: 1.0189 - accuracy: 0.6472 - val_loss: 1.0939 - val_accuracy: 0.6203\n",
      "Current Max Val Acc 0.6203\n",
      "196/196 [==============================] - 3s 14ms/step - loss: 0.3806 - accuracy: 0.8780 - val_loss: 1.0933 - val_accuracy: 0.6324\n",
      "Current Max Val Acc 0.6324\n",
      "98/98 [==============================] - 2s 17ms/step - loss: 0.1018 - accuracy: 0.9718 - val_loss: 1.7772 - val_accuracy: 0.5386\n",
      "Current Max Val Acc 0.6324\n",
      "196/196 [==============================] - 3s 13ms/step - loss: 0.3056 - accuracy: 0.9001 - val_loss: 1.3787 - val_accuracy: 0.5990\n",
      "Current Max Val Acc 0.6324\n",
      "391/391 [==============================] - 5s 11ms/step - loss: 0.8104 - accuracy: 0.7235 - val_loss: 1.0000 - val_accuracy: 0.6539\n",
      "Current Max Val Acc 0.6539\n",
      "196/196 [==============================] - 2s 12ms/step - loss: 0.2398 - accuracy: 0.9280 - val_loss: 1.2361 - val_accuracy: 0.6275\n",
      "Current Max Val Acc 0.6539\n",
      "98/98 [==============================] - 2s 15ms/step - loss: 0.0507 - accuracy: 0.9898 - val_loss: 1.3079 - val_accuracy: 0.6233\n",
      "Current Max Val Acc 0.6539\n",
      "196/196 [==============================] - 3s 12ms/step - loss: 0.2034 - accuracy: 0.9348 - val_loss: 1.2819 - val_accuracy: 0.6382\n",
      "Current Max Val Acc 0.6539\n",
      "391/391 [==============================] - 5s 12ms/step - loss: 0.7067 - accuracy: 0.7604 - val_loss: 1.0269 - val_accuracy: 0.6582\n",
      "Current Max Val Acc 0.6582\n",
      "196/196 [==============================] - 3s 12ms/step - loss: 0.1833 - accuracy: 0.9470 - val_loss: 1.0018 - val_accuracy: 0.6893\n",
      "Current Max Val Acc 0.6893\n",
      "98/98 [==============================] - 2s 16ms/step - loss: 0.0323 - accuracy: 0.9950 - val_loss: 1.3040 - val_accuracy: 0.6321\n",
      "Current Max Val Acc 0.6893\n",
      "196/196 [==============================] - 3s 13ms/step - loss: 0.1412 - accuracy: 0.9580 - val_loss: 1.2323 - val_accuracy: 0.6615\n",
      "Current Max Val Acc 0.6893\n",
      "391/391 [==============================] - 5s 11ms/step - loss: 0.6390 - accuracy: 0.7835 - val_loss: 1.4922 - val_accuracy: 0.5645\n",
      "Current Max Val Acc 0.6893\n",
      "196/196 [==============================] - 3s 13ms/step - loss: 0.1423 - accuracy: 0.9593 - val_loss: 0.9833 - val_accuracy: 0.6924\n",
      "Current Max Val Acc 0.6924\n",
      "98/98 [==============================] - 2s 15ms/step - loss: 0.0242 - accuracy: 0.9968 - val_loss: 0.9249 - val_accuracy: 0.7143\n",
      "Current Max Val Acc 0.7143\n",
      "196/196 [==============================] - 2s 12ms/step - loss: 0.1079 - accuracy: 0.9692 - val_loss: 1.0208 - val_accuracy: 0.6969\n",
      "Current Max Val Acc 0.7143\n",
      "391/391 [==============================] - 4s 11ms/step - loss: 0.5766 - accuracy: 0.8040 - val_loss: 0.9197 - val_accuracy: 0.7030\n",
      "Current Max Val Acc 0.7143\n",
      "196/196 [==============================] - 3s 13ms/step - loss: 0.1206 - accuracy: 0.9664 - val_loss: 0.8803 - val_accuracy: 0.7252\n",
      "Current Max Val Acc 0.7252\n",
      "98/98 [==============================] - 2s 16ms/step - loss: 0.0184 - accuracy: 0.9979 - val_loss: 1.0355 - val_accuracy: 0.7017\n",
      "Current Max Val Acc 0.7252\n",
      "196/196 [==============================] - 3s 13ms/step - loss: 0.0881 - accuracy: 0.9766 - val_loss: 1.1085 - val_accuracy: 0.6838\n",
      "Current Max Val Acc 0.7252\n",
      "391/391 [==============================] - 4s 11ms/step - loss: 0.5330 - accuracy: 0.8175 - val_loss: 0.8587 - val_accuracy: 0.7214\n",
      "Current Max Val Acc 0.7252\n",
      "196/196 [==============================] - 2s 12ms/step - loss: 0.1013 - accuracy: 0.9739 - val_loss: 1.2272 - val_accuracy: 0.6590\n",
      "Current Max Val Acc 0.7252\n",
      "98/98 [==============================] - 2s 14ms/step - loss: 0.0160 - accuracy: 0.9981 - val_loss: 1.1142 - val_accuracy: 0.6831\n",
      "Current Max Val Acc 0.7252\n",
      "196/196 [==============================] - 2s 12ms/step - loss: 0.0727 - accuracy: 0.9814 - val_loss: 1.0323 - val_accuracy: 0.7029\n",
      "Current Max Val Acc 0.7252\n",
      "391/391 [==============================] - 5s 12ms/step - loss: 0.4843 - accuracy: 0.8339 - val_loss: 1.0166 - val_accuracy: 0.6970\n",
      "Current Max Val Acc 0.7252\n",
      "196/196 [==============================] - 3s 13ms/step - loss: 0.0843 - accuracy: 0.9803 - val_loss: 0.9554 - val_accuracy: 0.7092\n",
      "Current Max Val Acc 0.7252\n",
      "98/98 [==============================] - 2s 17ms/step - loss: 0.0134 - accuracy: 0.9984 - val_loss: 0.9291 - val_accuracy: 0.7255\n",
      "Current Max Val Acc 0.7255\n",
      "196/196 [==============================] - 3s 13ms/step - loss: 0.0591 - accuracy: 0.9857 - val_loss: 1.2414 - val_accuracy: 0.6758\n",
      "Current Max Val Acc 0.7255\n",
      "391/391 [==============================] - 5s 12ms/step - loss: 0.4527 - accuracy: 0.8437 - val_loss: 1.2955 - val_accuracy: 0.6447\n",
      "Current Max Val Acc 0.7255\n",
      "196/196 [==============================] - 3s 14ms/step - loss: 0.0776 - accuracy: 0.9810 - val_loss: 1.0429 - val_accuracy: 0.7002\n",
      "Current Max Val Acc 0.7255\n",
      "98/98 [==============================] - 2s 15ms/step - loss: 0.0103 - accuracy: 0.9993 - val_loss: 0.9773 - val_accuracy: 0.7202\n",
      "Current Max Val Acc 0.7255\n",
      "196/196 [==============================] - 3s 14ms/step - loss: 0.0524 - accuracy: 0.9882 - val_loss: 1.1098 - val_accuracy: 0.6999\n",
      "Current Max Val Acc 0.7255\n",
      "391/391 [==============================] - 5s 12ms/step - loss: 0.4133 - accuracy: 0.8582 - val_loss: 1.0930 - val_accuracy: 0.6875\n",
      "Current Max Val Acc 0.7255\n",
      "196/196 [==============================] - 3s 13ms/step - loss: 0.0613 - accuracy: 0.9864 - val_loss: 1.0038 - val_accuracy: 0.7056\n",
      "Current Max Val Acc 0.7255\n"
     ]
    },
    {
     "name": "stdout",
     "output_type": "stream",
     "text": [
      "98/98 [==============================] - 2s 16ms/step - loss: 0.0091 - accuracy: 0.9998 - val_loss: 1.0235 - val_accuracy: 0.7165\n",
      "Current Max Val Acc 0.7255\n",
      "196/196 [==============================] - 3s 14ms/step - loss: 0.0452 - accuracy: 0.9907 - val_loss: 1.0142 - val_accuracy: 0.7272\n",
      "Current Max Val Acc 0.7272\n",
      "391/391 [==============================] - 5s 11ms/step - loss: 0.3796 - accuracy: 0.8694 - val_loss: 1.1344 - val_accuracy: 0.6750\n",
      "Current Max Val Acc 0.7272\n",
      "196/196 [==============================] - 3s 16ms/step - loss: 0.0575 - accuracy: 0.9874 - val_loss: 0.9379 - val_accuracy: 0.7407\n",
      "Current Max Val Acc 0.7407\n",
      "98/98 [==============================] - 2s 17ms/step - loss: 0.0084 - accuracy: 0.9991 - val_loss: 0.9223 - val_accuracy: 0.7408\n",
      "Current Max Val Acc 0.7408\n",
      "196/196 [==============================] - 3s 13ms/step - loss: 0.0390 - accuracy: 0.9920 - val_loss: 1.2382 - val_accuracy: 0.6901\n",
      "Current Max Val Acc 0.7408\n",
      "391/391 [==============================] - 4s 11ms/step - loss: 0.3560 - accuracy: 0.8766 - val_loss: 1.2524 - val_accuracy: 0.6765\n",
      "Current Max Val Acc 0.7408\n",
      "196/196 [==============================] - 2s 12ms/step - loss: 0.0526 - accuracy: 0.9879 - val_loss: 0.9033 - val_accuracy: 0.7404\n",
      "Current Max Val Acc 0.7408\n",
      "98/98 [==============================] - 2s 16ms/step - loss: 0.0073 - accuracy: 0.9995 - val_loss: 0.9960 - val_accuracy: 0.7312\n",
      "Current Max Val Acc 0.7408\n",
      "196/196 [==============================] - 3s 13ms/step - loss: 0.0332 - accuracy: 0.9934 - val_loss: 1.0559 - val_accuracy: 0.7231\n",
      "Current Max Val Acc 0.7408\n",
      "391/391 [==============================] - 5s 12ms/step - loss: 0.3274 - accuracy: 0.8868 - val_loss: 1.3744 - val_accuracy: 0.6513\n",
      "Current Max Val Acc 0.7408\n",
      "196/196 [==============================] - 3s 13ms/step - loss: 0.0492 - accuracy: 0.9882 - val_loss: 1.0568 - val_accuracy: 0.7203\n",
      "Current Max Val Acc 0.7408\n",
      "98/98 [==============================] - 2s 17ms/step - loss: 0.0064 - accuracy: 0.9995 - val_loss: 1.0602 - val_accuracy: 0.7181\n",
      "Current Max Val Acc 0.7408\n",
      "196/196 [==============================] - 3s 14ms/step - loss: 0.0292 - accuracy: 0.9944 - val_loss: 1.1561 - val_accuracy: 0.7145\n",
      "Current Max Val Acc 0.7408\n",
      "391/391 [==============================] - 4s 11ms/step - loss: 0.3072 - accuracy: 0.8921 - val_loss: 1.1231 - val_accuracy: 0.7041\n",
      "Current Max Val Acc 0.7408\n",
      "196/196 [==============================] - 3s 13ms/step - loss: 0.0425 - accuracy: 0.9901 - val_loss: 1.2657 - val_accuracy: 0.6767\n",
      "Current Max Val Acc 0.7408\n",
      "98/98 [==============================] - 2s 15ms/step - loss: 0.0062 - accuracy: 0.9994 - val_loss: 1.0202 - val_accuracy: 0.7334\n",
      "Current Max Val Acc 0.7408\n",
      "196/196 [==============================] - 3s 14ms/step - loss: 0.0283 - accuracy: 0.9944 - val_loss: 0.9965 - val_accuracy: 0.7368\n",
      "Current Max Val Acc 0.7408\n"
     ]
    }
   ],
   "source": [
    "cyclical_model, current_max, result_dict = CyclicalTrain(\n",
    "    model=get_cifar10_model(),\n",
    "    x=train_images,\n",
    "    y=train_labels,\n",
    "    data_sizes=get_cycle_sizes(start_percent, end_percent, multiplier, EPOCHS),\n",
    "    scores=scores,\n",
    "    batch_size=BATCH_SIZE,\n",
    "    callbacks=None,\n",
    "    verbose=1,\n",
    "    data=(test_images, test_labels)\n",
    ")"
   ]
  },
  {
   "cell_type": "markdown",
   "id": "80246b26",
   "metadata": {},
   "source": [
    "## Report outcomes"
   ]
  },
  {
   "cell_type": "code",
   "execution_count": 10,
   "id": "66339e3b",
   "metadata": {},
   "outputs": [
    {
     "name": "stdout",
     "output_type": "stream",
     "text": [
      "Vanilla Highest Accuracy: 0.703\n",
      "Cyclical Highest Accuracy: 0.7408\n",
      "Vanilla Highest 3 Accuracies: [0.703, 0.7027, 0.6999]\n",
      "Cyclical Highest 3 Accuracies: [0.7408, 0.7407, 0.7404]\n"
     ]
    }
   ],
   "source": [
    "# Log highest accuracy for vanilla and cyclical models\n",
    "print(\"Vanilla Highest Accuracy:\", round(max(vanilla_history.history['val_accuracy']),4))\n",
    "print(\"Cyclical Highest Accuracy:\", round(max(result_dict['val_accuracy']),4))\n",
    "\n",
    "# Log highest 3 accuracies for vanilla and cyclical models\n",
    "print(\"Vanilla Highest 3 Accuracies:\", sorted(np.round(vanilla_history.history['val_accuracy'],4), reverse = True)[:3])\n",
    "print(\"Cyclical Highest 3 Accuracies:\", sorted(np.round(result_dict['val_accuracy'],4), reverse = True)[:3])"
   ]
  },
  {
   "cell_type": "code",
   "execution_count": null,
   "id": "2d0e5e53",
   "metadata": {},
   "outputs": [],
   "source": []
  }
 ],
 "metadata": {
  "kernelspec": {
   "display_name": "Python 3 (ipykernel)",
   "language": "python",
   "name": "python3"
  },
  "language_info": {
   "codemirror_mode": {
    "name": "ipython",
    "version": 3
   },
   "file_extension": ".py",
   "mimetype": "text/x-python",
   "name": "python",
   "nbconvert_exporter": "python",
   "pygments_lexer": "ipython3",
   "version": "3.9.12"
  }
 },
 "nbformat": 4,
 "nbformat_minor": 5
}
